{
 "cells": [
  {
   "cell_type": "code",
   "execution_count": null,
   "metadata": {},
   "outputs": [],
   "source": [
    "import numpy as np\n",
    "from vedo import *\n",
    "import gustaf as gus\n",
    "from gustaf.create.spline import with_bounds"
   ]
  },
  {
   "cell_type": "code",
   "execution_count": null,
   "metadata": {},
   "outputs": [],
   "source": [
    "gus.utils.log.configure(debug=True)\n",
    "\n",
    "v_res = [20, 30, 40]\n",
    "vertices = gus.create.vertices.raster(bounds=[[-1, 0, 5], [4, 1, 10]], resolutions=v_res)\n",
    "connec = gus.utils.connec.make_hexa_volumes(v_res)\n",
    "1\n",
    "v = gus.Volumes(vertices.vertices, connec)\n",
    "plt = v.show(close=False)"
   ]
  },
  {
   "cell_type": "code",
   "execution_count": null,
   "metadata": {},
   "outputs": [],
   "source": [
    "type(plt)"
   ]
  },
  {
   "cell_type": "code",
   "execution_count": null,
   "metadata": {
    "scrolled": false
   },
   "outputs": [],
   "source": [
    "plt.show(camera=None)"
   ]
  },
  {
   "cell_type": "code",
   "execution_count": null,
   "metadata": {},
   "outputs": [],
   "source": [
    "plt.close()"
   ]
  },
  {
   "cell_type": "code",
   "execution_count": null,
   "metadata": {},
   "outputs": [],
   "source": [
    "a = v.showable()"
   ]
  },
  {
   "cell_type": "code",
   "execution_count": null,
   "metadata": {},
   "outputs": [],
   "source": [
    "plt = Plotter(backend=\"ipyvtk\")\n",
    "\n",
    "plt.show([a,a], at=0, interactive=True, camera=None)"
   ]
  },
  {
   "cell_type": "code",
   "execution_count": null,
   "metadata": {},
   "outputs": [],
   "source": [
    "plt.close()"
   ]
  },
  {
   "cell_type": "code",
   "execution_count": null,
   "metadata": {},
   "outputs": [],
   "source": [
    "\n",
    "spline_2d_bez = gus.RationalBezier(\n",
    "    [2,2],\n",
    "    [[0,0],[0.5,-0.2],[1,0],[0,0.2],\n",
    "    [0.5,0.2],[1,0.2],[0,0.4],[0.5,0.4],[1,0.4]],\n",
    "    [1,1,1,1,1,1,1,1,1])"
   ]
  },
  {
   "cell_type": "code",
   "execution_count": null,
   "metadata": {},
   "outputs": [],
   "source": [
    "l = list()\n",
    "for i in range(3):\n",
    "    for j in range(3):\n",
    "        for k in range(3):\n",
    "            l.append([i*0.5,j*0.5,k*0.5])"
   ]
  },
  {
   "cell_type": "code",
   "execution_count": null,
   "metadata": {},
   "outputs": [],
   "source": [
    "np.add(l[15],[0,0,1])"
   ]
  },
  {
   "cell_type": "code",
   "execution_count": null,
   "metadata": {},
   "outputs": [],
   "source": [
    "l[16] = [0.5, 1.5, 0.5]"
   ]
  },
  {
   "cell_type": "code",
   "execution_count": null,
   "metadata": {},
   "outputs": [],
   "source": [
    "d3_spline = gus.BSpline([2,2,2],[[-1,-1,-1,4,4,4],[0,0,0,1,1,1],[5,5,5,10,10,10]], l)"
   ]
  },
  {
   "cell_type": "code",
   "execution_count": null,
   "metadata": {},
   "outputs": [],
   "source": [
    "d3_spline.show(surface_alpha=0.3)"
   ]
  },
  {
   "cell_type": "code",
   "execution_count": null,
   "metadata": {},
   "outputs": [],
   "source": [
    "ffd1 = gus.ffd.FFD(v, d3_spline)"
   ]
  },
  {
   "cell_type": "code",
   "execution_count": null,
   "metadata": {},
   "outputs": [],
   "source": [
    "ffd1.spline.show(surface_alpha=.5)"
   ]
  },
  {
   "cell_type": "code",
   "execution_count": null,
   "metadata": {},
   "outputs": [],
   "source": [
    "gus.show.show_vedo([\"This is a title\", ffd1._spline.showable(surface_alpha=0.5)], [\"This is another title\", ffd1.mesh.showable(alpha=0.5)])"
   ]
  },
  {
   "cell_type": "code",
   "execution_count": null,
   "metadata": {},
   "outputs": [],
   "source": [
    "gus.show.show_vedo([\"test\",ffd1._spline])"
   ]
  },
  {
   "cell_type": "code",
   "execution_count": null,
   "metadata": {},
   "outputs": [],
   "source": [
    "d2_spline = gus.BSpline(\n",
    "    [2,2], \n",
    "    [\n",
    "        [0,0,0,0.33,0.66,1,1,1],\n",
    "        [0,0,0,1,1,1]\n",
    "    ],\n",
    "    [\n",
    "        [0,0],[0.25,0],[0.5,0.05],[0.75,0.1],[1,0.1],\n",
    "        [0,0.2],[0.25,0.2],[0.5,0.2],[0.75,0.2],[1,0.2],\n",
    "        [0,0.4],[0.25,0.4],[0.5,0.35],[0.75,0.3],[1,0.3]\n",
    "    ])"
   ]
  },
  {
   "cell_type": "code",
   "execution_count": null,
   "metadata": {},
   "outputs": [],
   "source": [
    "d2_spline.show()"
   ]
  },
  {
   "cell_type": "code",
   "execution_count": null,
   "metadata": {},
   "outputs": [],
   "source": [
    "d2_spline.sample([100,100])"
   ]
  },
  {
   "cell_type": "code",
   "execution_count": null,
   "metadata": {},
   "outputs": [],
   "source": [
    "d2_resolution = [50, 25]\n",
    "sampled_2d = d2_spline.sample(d2_resolution)\n",
    "connec_2d = gus.utils.connec.make_quad_faces(d2_resolution)\n",
    "d2_mesh = gus.Faces(sampled_2d, connec_2d)"
   ]
  },
  {
   "cell_type": "code",
   "execution_count": null,
   "metadata": {},
   "outputs": [],
   "source": [
    "d2_mesh.show()"
   ]
  },
  {
   "cell_type": "code",
   "execution_count": null,
   "metadata": {},
   "outputs": [],
   "source": [
    "d3_spline.evaluate([[0,0,0]])"
   ]
  },
  {
   "cell_type": "code",
   "execution_count": null,
   "metadata": {},
   "outputs": [],
   "source": [
    "\"\"\"Align 2 shapes: a simple line to a polygonal mesh\"\"\"\n",
    "from vedo import *\n",
    "\n",
    "limb = Mesh(dataurl + \"270.vtk\").alpha(0.5)\n",
    "rim  = Mesh(dataurl + \"270_rim.vtk\").c(\"red4\").ps(20)\n",
    "\n",
    "# make a clone copy of the rim line and align it to the surface\n",
    "arim = rim.clone().alignTo(limb, rigid=True).c(\"g\").ps(20)\n",
    "\n",
    "plt = Plotter(backend=\"ipyvtk\") # or k3d, itk, ipyvtk, or None\n",
    "plt += [limb, rim, arim]\n",
    "\n",
    "# compute how well it fits\n",
    "d = 0\n",
    "for p in arim.points():\n",
    "    cpt = limb.closestPoint(p)\n",
    "    d += mag2(p - cpt)  # square of residual distance\n",
    "\n",
    "printc(\"ave. squared distance =\", d / arim.N(), c=\"g\")\n",
    "plt.show(axes=1)\n"
   ]
  },
  {
   "cell_type": "code",
   "execution_count": null,
   "metadata": {},
   "outputs": [],
   "source": [
    "plt.close()"
   ]
  },
  {
   "cell_type": "code",
   "execution_count": null,
   "metadata": {},
   "outputs": [],
   "source": []
  }
 ],
 "metadata": {
  "kernelspec": {
   "display_name": "Python 3 (ipykernel)",
   "language": "python",
   "name": "python3"
  },
  "language_info": {
   "codemirror_mode": {
    "name": "ipython",
    "version": 3
   },
   "file_extension": ".py",
   "mimetype": "text/x-python",
   "name": "python",
   "nbconvert_exporter": "python",
   "pygments_lexer": "ipython3",
   "version": "3.9.12"
  },
  "vscode": {
   "interpreter": {
    "hash": "043de5b99296c6de9f124d508ceaba3b9a0446254aabf5647fe891243ee78f39"
   }
  }
 },
 "nbformat": 4,
 "nbformat_minor": 2
}
